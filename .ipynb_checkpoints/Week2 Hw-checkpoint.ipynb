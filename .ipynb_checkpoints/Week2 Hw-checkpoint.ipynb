{
 "cells": [
  {
   "cell_type": "markdown",
   "id": "fadf297e",
   "metadata": {},
   "source": [
    "Exercise 2.1 - Getting started with Python The goal of this exercise is to print text like that below to the screen based on variable values you define.\n",
    "\n",
    "My name is Brianna and I give eating ice cream a score of 9 out of 10! My sleeping enjoyment rating is 8 / 10! Based on the factors above, my happiness rating is 8.5 out of 10 or 85.0 %! For this exercise you should:\n",
    "\n",
    "Create three variables: one integer value (whole number) for your ice cream rating, another integer for your sleeping rating, and a character string for your first name. Calculate the average of the two ratings. Store the result in a variable for your happiness. Find the data type of each of the variables you have defined. Are there any surprises? Reproduce your version of the example text using the print() function and the variables you have defined. Note that you may need to be careful combining text and numbers!"
   ]
  },
  {
   "cell_type": "code",
   "execution_count": 2,
   "id": "b725437a",
   "metadata": {},
   "outputs": [
    {
     "name": "stdout",
     "output_type": "stream",
     "text": [
      "My name is Kelly Perez and I give eating ice cream a score of 8 out of 10!\n",
      "My sleep enjoyment rating is 7 /10!\n"
     ]
    }
   ],
   "source": [
    "ice_cream_rating = 8\n",
    "sleep_rating = 7\n",
    "name = 'Kelly Perez'\n",
    "print('My name is',\n",
    "     name,\n",
    "     'and I give eating ice cream a score of',\n",
    "     ice_cream_rating,\n",
    "     'out of 10!')\n",
    "print('My sleep enjoyment rating is',\n",
    "     sleep_rating,\n",
    "     '/10!')"
   ]
  },
  {
   "cell_type": "code",
   "execution_count": 3,
   "id": "f2d43da1",
   "metadata": {},
   "outputs": [
    {
     "name": "stdout",
     "output_type": "stream",
     "text": [
      "7.5\n",
      "Based on the factors above, my happiness rating is 7.5 out of 10 or 75.0%\n"
     ]
    }
   ],
   "source": [
    "sum =  ice_cream_rating + sleep_rating \n",
    "happiness_rating = sum/2\n",
    "print(happiness_rating)\n",
    "happiness_percent = happiness_rating * 10 \n",
    "happiness_percent = str(happiness_percent) + '%'\n",
    "print('Based on the factors above, my happiness rating is',\n",
    "     happiness_rating,\n",
    "     'out of 10 or',\n",
    "     happiness_percent,\n",
    "     )"
   ]
  },
  {
   "cell_type": "code",
   "execution_count": 4,
   "id": "5b72934e",
   "metadata": {},
   "outputs": [
    {
     "data": {
      "text/plain": [
       "int"
      ]
     },
     "execution_count": 4,
     "metadata": {},
     "output_type": "execute_result"
    }
   ],
   "source": [
    "type(ice_cream_rating)"
   ]
  },
  {
   "cell_type": "code",
   "execution_count": 5,
   "id": "919b1f28",
   "metadata": {},
   "outputs": [
    {
     "data": {
      "text/plain": [
       "int"
      ]
     },
     "execution_count": 5,
     "metadata": {},
     "output_type": "execute_result"
    }
   ],
   "source": [
    "type(sleep_rating)"
   ]
  },
  {
   "cell_type": "code",
   "execution_count": 6,
   "id": "1c6d593d",
   "metadata": {},
   "outputs": [
    {
     "data": {
      "text/plain": [
       "str"
      ]
     },
     "execution_count": 6,
     "metadata": {},
     "output_type": "execute_result"
    }
   ],
   "source": [
    "type(happiness_percent)"
   ]
  },
  {
   "cell_type": "code",
   "execution_count": 7,
   "id": "63f4b485",
   "metadata": {},
   "outputs": [
    {
     "data": {
      "text/plain": [
       "str"
      ]
     },
     "execution_count": 7,
     "metadata": {},
     "output_type": "execute_result"
    }
   ],
   "source": [
    "type(name)"
   ]
  },
  {
   "cell_type": "code",
   "execution_count": 8,
   "id": "dff60913",
   "metadata": {},
   "outputs": [
    {
     "data": {
      "text/plain": [
       "float"
      ]
     },
     "execution_count": 8,
     "metadata": {},
     "output_type": "execute_result"
    }
   ],
   "source": [
    "type(happiness_rating)\n",
    "#was not expecting this to be a float, thought it would be an integer"
   ]
  },
  {
   "cell_type": "markdown",
   "id": "a550eec6",
   "metadata": {},
   "source": [
    "Create two lists for the station names and first years of operation for the stations in Group 1 in Table 2.5. Be sure to list the values in the order they appear in the table. Modify the lists you just created to add the values Group 2, again keeping them in the same order. Sort the two lists, sorting the first in alphabetical order and the second so that the most recent starting year is first Do you see any problems with how the lists have been sorted? Python has a function called zip() that might be helpful in solving the sorting issue. Search online to see whether you can find a way to use zip() to solve the problem with the two lists."
   ]
  },
  {
   "cell_type": "code",
   "execution_count": 9,
   "id": "aa4d0291",
   "metadata": {},
   "outputs": [],
   "source": [
    "station_name = [\"lighthouse\", \"Harmaja\", \"Suomenlinna aaltopoiju\", \"Kumpula\",\n",
    "               \"Kaisaniemi\", \"Malma airfield\", \"Vuosaari harbour\", \"Kaivopuisto\"]"
   ]
  }
 ],
 "metadata": {
  "kernelspec": {
   "display_name": "Python 3 (ipykernel)",
   "language": "python",
   "name": "python3"
  },
  "language_info": {
   "codemirror_mode": {
    "name": "ipython",
    "version": 3
   },
   "file_extension": ".py",
   "mimetype": "text/x-python",
   "name": "python",
   "nbconvert_exporter": "python",
   "pygments_lexer": "ipython3",
   "version": "3.9.12"
  }
 },
 "nbformat": 4,
 "nbformat_minor": 5
}
