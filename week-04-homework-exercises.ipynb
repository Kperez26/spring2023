{
 "cells": [
  {
   "cell_type": "markdown",
   "metadata": {},
   "source": [
    "# Week 04 Exercises \n",
    "\n",
    "## 4.1\n",
    "\n",
    "Let's start with some basic practice using the **shapely** package. Do the following steps:\n",
    "\n",
    "\n",
    "<ol type=\"a\">\n",
    "  <li>Creat a polygon from the following points: (-118.4152,33.9699), (-118.4152,33.9689),(-118.4144,33.9689),(-118.4143, 33.96890,(-118.4142,33.96990,9-118.4152,33.9699)</li>\n",
    "  <li>Create a new variable that stores both x and y coordinates</li>\n",
    "  <li>What is the centroid of this polygon?</li>\n",
    "  <li>What is the bounding box? Write an explanation of what the bounding box actual means relative to the polygon.</li>\n",
    "</ol>\n"
   ]
  },
  {
   "cell_type": "markdown",
   "metadata": {},
   "source": [
    "4.1.1"
   ]
  },
  {
   "cell_type": "code",
   "execution_count": 39,
   "metadata": {},
   "outputs": [
    {
     "data": {
      "image/svg+xml": [
       "<svg xmlns=\"http://www.w3.org/2000/svg\" xmlns:xlink=\"http://www.w3.org/1999/xlink\" width=\"100.0\" height=\"100.0\" viewBox=\"-118.41524036 33.96885964 0.0010807200000044759 0.0010897200000030693\" preserveAspectRatio=\"xMinYMin meet\"><g transform=\"matrix(1,0,0,-1,0,67.93880899999999)\"><path fill-rule=\"evenodd\" fill=\"#66cc99\" stroke=\"#555555\" stroke-width=\"2.1794400000061385e-05\" opacity=\"0.6\" d=\"M -118.4152,33.9699 L -118.4152,33.9689 L -118.4144,33.9689 L -118.4143,33.9689 L -118.4142,33.969909 L -118.4152,33.9699 z\" /></g></svg>"
      ],
      "text/plain": [
       "<shapely.geometry.polygon.Polygon at 0x7fab5afbe5b0>"
      ]
     },
     "execution_count": 39,
     "metadata": {},
     "output_type": "execute_result"
    }
   ],
   "source": [
    "from shapely.geometry import Point, LineString, Polygon\n",
    "poly = Polygon([(-118.4152,33.9699),(-118.4152,33.9689),(-118.4144,33.9689),(-118.4143, 33.96890),(-118.4142,33.969909),(-118.4152,33.9699)])\n",
    "poly_type = poly.geom_type\n",
    "poly"
   ]
  },
  {
   "cell_type": "code",
   "execution_count": 40,
   "metadata": {},
   "outputs": [
    {
     "data": {
      "text/plain": [
       "6"
      ]
     },
     "execution_count": 40,
     "metadata": {},
     "output_type": "execute_result"
    }
   ],
   "source": [
    "poly_coords = poly.exterior.coords\n",
    "len(poly_coords)"
   ]
  },
  {
   "cell_type": "markdown",
   "metadata": {},
   "source": [
    "4.1.2"
   ]
  },
  {
   "cell_type": "code",
   "execution_count": 41,
   "metadata": {},
   "outputs": [
    {
     "name": "stdout",
     "output_type": "stream",
     "text": [
      "x coordinates: [-118.4152, -118.4152, -118.4144, -118.4143, -118.4142, -118.4152]\n"
     ]
    }
   ],
   "source": [
    "x_var = []\n",
    "for x,y in poly_coords:\n",
    "    x_var.append(x)\n",
    "print('x coordinates:', x_var)"
   ]
  },
  {
   "cell_type": "code",
   "execution_count": 42,
   "metadata": {},
   "outputs": [
    {
     "name": "stdout",
     "output_type": "stream",
     "text": [
      "y coordinates: [33.9699, 33.9689, 33.9689, 33.9689, 33.969909, 33.9699]\n"
     ]
    }
   ],
   "source": [
    "y_var = []\n",
    "for x,y in poly_coords:\n",
    "    y_var.append(y)\n",
    "print('y coordinates:', y_var)"
   ]
  },
  {
   "cell_type": "markdown",
   "metadata": {},
   "source": [
    "4.1.3"
   ]
  },
  {
   "cell_type": "code",
   "execution_count": 43,
   "metadata": {},
   "outputs": [
    {
     "name": "stdout",
     "output_type": "stream",
     "text": [
      "Polygon centroid is  POINT (-118.41472389113082 33.96941102718237)\n"
     ]
    }
   ],
   "source": [
    "poly_centroid = poly.centroid\n",
    "print('Polygon centroid is ', poly_centroid)"
   ]
  },
  {
   "cell_type": "markdown",
   "metadata": {},
   "source": [
    "4.1.4"
   ]
  },
  {
   "cell_type": "code",
   "execution_count": 51,
   "metadata": {},
   "outputs": [
    {
     "data": {
      "text/plain": [
       "(-118.4152, 33.9689, -118.4142, 33.969909)"
      ]
     },
     "execution_count": 51,
     "metadata": {},
     "output_type": "execute_result"
    }
   ],
   "source": [
    "from shapely.geometry import MultiPoint, MultiLineString, MultiPolygon, box\n",
    "poly.bounds"
   ]
  },
  {
   "cell_type": "code",
   "execution_count": 53,
   "metadata": {},
   "outputs": [
    {
     "name": "stdout",
     "output_type": "stream",
     "text": [
      "Bounding box:  POLYGON ((-118.4142 33.9689, -118.4142 33.969909, -118.4152 33.969909, -118.4152 33.9689, -118.4142 33.9689))\n"
     ]
    }
   ],
   "source": [
    "min_x, min_y = -118.4152, 33.9689\n",
    "max_x, max_y = -118.4142, 33.969909\n",
    "poly_bound = box(minx=min_x, miny=min_y, maxx=max_x, maxy=max_y)\n",
    "print(\"Bounding box: \", poly_bound)"
   ]
  },
  {
   "cell_type": "markdown",
   "metadata": {},
   "source": [
    "A bounding box is necessary in order to visualize the size of your geometric object."
   ]
  },
  {
   "cell_type": "markdown",
   "metadata": {},
   "source": [
    "Justice Equity Need Index (JENI)## 4.2\n",
    "\n",
    "Now let's move on with practicing using **geopandas** and working with various CRS. We will use the County of Los Angeles Justice Equity Need Index (by zip code). Some information on the dataset:\n",
    "The Justice Equity Need Index (JENI) identifies ZIP Codes in greatest need of public investments in community healing, health, and prevention to help reverse historical injustices. Updated 2022.\n",
    "\n",
    "The Justice Equity Need Index (JENI), by Advancement Project California, offers a means to map out the disparate burden that criminalization and a detention-first justice model place on specific communities. The index includes the following indicators:\n",
    "\n",
    "<ol type=\"1\">\n",
    "\n",
    "<li>System Involvement: The system-involved population by ZIP Code results in direct needs for justice equity, as measured by adult and youth probation.\n",
    "\n",
    "- Indicators: Adult Probation (per 1,000 people); Youth Probation (per 1,000 people) </li>\n",
    "\n",
    "<li>Inequity Drivers: Root inequities across communities that contribute to racial and economic disparities as seen in incarceration and policing.\n",
    "\n",
    "- Indicators: Black, Latinx, AIAN, and NHPI Percentages of Population (average percentile); Unemployment Rate (%); Population aged 25+ without a High School Diploma (%); Population below 200% of the Federal Poverty Level (%); Violent Crime Rate (per 1,000 people)</li>\n",
    "\n",
    "<li>Criminalization Risk: Conditions where the criminal justice system has historically taken a detention-first, prevention-last approach.\n",
    "\n",
    "- Indicators: Mental Health Hospitalizations (per 1,000 people); Substance Use-Related Hospitalizations (per 1,000 people); Homelessness Rate (per 1,000 people)</li>\n",
    "</ol>\n",
    "\n",
    "Learn more at https://www.advancementprojectca.org/tools-we-use/maps-and-data/justice-equity-need-index.\n",
    "\n",
    "Supervisorial Districts, SPAs, and CSAs determined by ZIP Code centroid.\n"
   ]
  },
  {
   "cell_type": "markdown",
   "metadata": {},
   "source": [
    "Complete the following tasks:\n",
    "\n",
    "<ol type=\"a\">\n",
    "  <li>Load the dataset as a geopandas dataframe. The data is located under 'data/Justice_Equity_Need_Index.geojson' </li>\n",
    "  <li>What is the default CRS? Write a sentence about what type of CRS it is.</li>\n",
    "  <li>Remember, geopandas is just the spatial version of pandas with lots of the same functionality. Knowing some commands from pandas from previous exercises, answer the following:\n",
    "\n",
    "  - What is the size of the dataframe?\n",
    "  - List the column names.\n",
    "  - Show the first 10 rows of the dataframe. </li>\n",
    "  <li>Make a copy of the dataframe. \n",
    "\n",
    "  - Reproject the CRS is epsg:3857\n",
    "  - Use matplotlib to graph BOTH versions of the dataframe, in the original CRS and in the new reprojected CRS. Make sure to use clear titles\n",
    "  - Write a few sentences of differences you see in the visualizations between the two.  </li>\n",
    "</ol>\n"
   ]
  },
  {
   "cell_type": "markdown",
   "metadata": {},
   "source": [
    "4.2.1"
   ]
  },
  {
   "cell_type": "code",
   "execution_count": 55,
   "metadata": {},
   "outputs": [
    {
     "name": "stderr",
     "output_type": "stream",
     "text": [
      "ERROR 1: PROJ: proj_create_from_database: Open of /opt/tljh/user/share/proj failed\n"
     ]
    },
    {
     "data": {
      "text/html": [
       "<div>\n",
       "<style scoped>\n",
       "    .dataframe tbody tr th:only-of-type {\n",
       "        vertical-align: middle;\n",
       "    }\n",
       "\n",
       "    .dataframe tbody tr th {\n",
       "        vertical-align: top;\n",
       "    }\n",
       "\n",
       "    .dataframe thead th {\n",
       "        text-align: right;\n",
       "    }\n",
       "</style>\n",
       "<table border=\"1\" class=\"dataframe\">\n",
       "  <thead>\n",
       "    <tr style=\"text-align: right;\">\n",
       "      <th></th>\n",
       "      <th>OBJECTID</th>\n",
       "      <th>zip</th>\n",
       "      <th>jenicategory</th>\n",
       "      <th>jenipctl</th>\n",
       "      <th>jenirank</th>\n",
       "      <th>riskcategory</th>\n",
       "      <th>riskpctl</th>\n",
       "      <th>driverscategory</th>\n",
       "      <th>driverspctl</th>\n",
       "      <th>systemcategory</th>\n",
       "      <th>systempctl</th>\n",
       "      <th>neighborhood</th>\n",
       "      <th>sup_dist</th>\n",
       "      <th>spa</th>\n",
       "      <th>csa</th>\n",
       "      <th>SHAPE_Length</th>\n",
       "      <th>SHAPE_Area</th>\n",
       "      <th>geometry</th>\n",
       "    </tr>\n",
       "  </thead>\n",
       "  <tbody>\n",
       "    <tr>\n",
       "      <th>0</th>\n",
       "      <td>1</td>\n",
       "      <td>91108</td>\n",
       "      <td>Lowest</td>\n",
       "      <td>0.0</td>\n",
       "      <td>277</td>\n",
       "      <td>Lowest</td>\n",
       "      <td>0.4</td>\n",
       "      <td>Lowest</td>\n",
       "      <td>0.7</td>\n",
       "      <td>Lowest</td>\n",
       "      <td>3.3</td>\n",
       "      <td>San Marino</td>\n",
       "      <td>District 5</td>\n",
       "      <td>SPA 3 - San Gabriel</td>\n",
       "      <td>City of San Marino</td>\n",
       "      <td>0.177419</td>\n",
       "      <td>0.000962</td>\n",
       "      <td>MULTIPOLYGON (((-118.10864 34.13733, -118.1084...</td>\n",
       "    </tr>\n",
       "    <tr>\n",
       "      <th>1</th>\n",
       "      <td>2</td>\n",
       "      <td>90631</td>\n",
       "      <td>Lowest</td>\n",
       "      <td>0.4</td>\n",
       "      <td>276</td>\n",
       "      <td>Lowest</td>\n",
       "      <td>2.9</td>\n",
       "      <td>Lowest</td>\n",
       "      <td>1.8</td>\n",
       "      <td>Lowest</td>\n",
       "      <td>0.7</td>\n",
       "      <td>La Habra Heights</td>\n",
       "      <td>District 4</td>\n",
       "      <td>SPA 7 - East</td>\n",
       "      <td>City of La Habra Heights</td>\n",
       "      <td>0.234952</td>\n",
       "      <td>0.001614</td>\n",
       "      <td>MULTIPOLYGON (((-117.94274 33.97488, -117.9427...</td>\n",
       "    </tr>\n",
       "    <tr>\n",
       "      <th>2</th>\n",
       "      <td>3</td>\n",
       "      <td>90274</td>\n",
       "      <td>Lowest</td>\n",
       "      <td>0.7</td>\n",
       "      <td>275</td>\n",
       "      <td>Lowest</td>\n",
       "      <td>3.6</td>\n",
       "      <td>Lowest</td>\n",
       "      <td>0.0</td>\n",
       "      <td>Lowest</td>\n",
       "      <td>7.2</td>\n",
       "      <td>Palos Verdes Estates</td>\n",
       "      <td>District 4</td>\n",
       "      <td>SPA 8 - South Bay</td>\n",
       "      <td>City of Rancho Palos Verdes</td>\n",
       "      <td>0.563332</td>\n",
       "      <td>0.003029</td>\n",
       "      <td>MULTIPOLYGON (((-118.39057 33.80426, -118.3905...</td>\n",
       "    </tr>\n",
       "    <tr>\n",
       "      <th>3</th>\n",
       "      <td>4</td>\n",
       "      <td>91361</td>\n",
       "      <td>Lowest</td>\n",
       "      <td>1.1</td>\n",
       "      <td>274</td>\n",
       "      <td>Lowest</td>\n",
       "      <td>12.2</td>\n",
       "      <td>Lowest</td>\n",
       "      <td>0.4</td>\n",
       "      <td>Lowest</td>\n",
       "      <td>5.1</td>\n",
       "      <td>Westlake Village</td>\n",
       "      <td>District 3</td>\n",
       "      <td>SPA 2 - San Fernando</td>\n",
       "      <td>City of Westlake Village</td>\n",
       "      <td>0.197748</td>\n",
       "      <td>0.001336</td>\n",
       "      <td>MULTIPOLYGON (((-118.80028 34.14798, -118.7995...</td>\n",
       "    </tr>\n",
       "    <tr>\n",
       "      <th>4</th>\n",
       "      <td>5</td>\n",
       "      <td>90275</td>\n",
       "      <td>Lowest</td>\n",
       "      <td>1.4</td>\n",
       "      <td>273</td>\n",
       "      <td>Lowest</td>\n",
       "      <td>6.8</td>\n",
       "      <td>Lowest</td>\n",
       "      <td>3.6</td>\n",
       "      <td>Lowest</td>\n",
       "      <td>6.2</td>\n",
       "      <td>Rancho Palos Verdes</td>\n",
       "      <td>District 4</td>\n",
       "      <td>SPA 8 - South Bay</td>\n",
       "      <td>City of Rancho Palos Verdes</td>\n",
       "      <td>0.624171</td>\n",
       "      <td>0.003365</td>\n",
       "      <td>MULTIPOLYGON (((-118.39313 33.73857, -118.3931...</td>\n",
       "    </tr>\n",
       "  </tbody>\n",
       "</table>\n",
       "</div>"
      ],
      "text/plain": [
       "   OBJECTID    zip jenicategory  jenipctl  jenirank riskcategory  riskpctl  \\\n",
       "0         1  91108       Lowest       0.0       277       Lowest       0.4   \n",
       "1         2  90631       Lowest       0.4       276       Lowest       2.9   \n",
       "2         3  90274       Lowest       0.7       275       Lowest       3.6   \n",
       "3         4  91361       Lowest       1.1       274       Lowest      12.2   \n",
       "4         5  90275       Lowest       1.4       273       Lowest       6.8   \n",
       "\n",
       "  driverscategory  driverspctl systemcategory  systempctl  \\\n",
       "0          Lowest          0.7         Lowest         3.3   \n",
       "1          Lowest          1.8         Lowest         0.7   \n",
       "2          Lowest          0.0         Lowest         7.2   \n",
       "3          Lowest          0.4         Lowest         5.1   \n",
       "4          Lowest          3.6         Lowest         6.2   \n",
       "\n",
       "           neighborhood    sup_dist                   spa  \\\n",
       "0            San Marino  District 5   SPA 3 - San Gabriel   \n",
       "1      La Habra Heights  District 4          SPA 7 - East   \n",
       "2  Palos Verdes Estates  District 4     SPA 8 - South Bay   \n",
       "3      Westlake Village  District 3  SPA 2 - San Fernando   \n",
       "4   Rancho Palos Verdes  District 4     SPA 8 - South Bay   \n",
       "\n",
       "                           csa  SHAPE_Length  SHAPE_Area  \\\n",
       "0           City of San Marino      0.177419    0.000962   \n",
       "1     City of La Habra Heights      0.234952    0.001614   \n",
       "2  City of Rancho Palos Verdes      0.563332    0.003029   \n",
       "3     City of Westlake Village      0.197748    0.001336   \n",
       "4  City of Rancho Palos Verdes      0.624171    0.003365   \n",
       "\n",
       "                                            geometry  \n",
       "0  MULTIPOLYGON (((-118.10864 34.13733, -118.1084...  \n",
       "1  MULTIPOLYGON (((-117.94274 33.97488, -117.9427...  \n",
       "2  MULTIPOLYGON (((-118.39057 33.80426, -118.3905...  \n",
       "3  MULTIPOLYGON (((-118.80028 34.14798, -118.7995...  \n",
       "4  MULTIPOLYGON (((-118.39313 33.73857, -118.3931...  "
      ]
     },
     "execution_count": 55,
     "metadata": {},
     "output_type": "execute_result"
    }
   ],
   "source": [
    "import geopandas as gpd\n",
    "fp = \"data/Justice_Equity_Need_Index.geojson\"\n",
    "data = gpd.read_file(fp)\n",
    "data.head()"
   ]
  },
  {
   "cell_type": "markdown",
   "metadata": {},
   "source": [
    "4.2.2"
   ]
  },
  {
   "cell_type": "code",
   "execution_count": 56,
   "metadata": {},
   "outputs": [
    {
     "data": {
      "text/plain": [
       "<Geographic 2D CRS: EPSG:4326>\n",
       "Name: WGS 84\n",
       "Axis Info [ellipsoidal]:\n",
       "- Lat[north]: Geodetic latitude (degree)\n",
       "- Lon[east]: Geodetic longitude (degree)\n",
       "Area of Use:\n",
       "- name: World.\n",
       "- bounds: (-180.0, -90.0, 180.0, 90.0)\n",
       "Datum: World Geodetic System 1984 ensemble\n",
       "- Ellipsoid: WGS 84\n",
       "- Prime Meridian: Greenwich"
      ]
     },
     "execution_count": 56,
     "metadata": {},
     "output_type": "execute_result"
    }
   ],
   "source": [
    "data.crs"
   ]
  },
  {
   "cell_type": "markdown",
   "metadata": {},
   "source": [
    "The default CRS is WGS 84 which uses the earth's center as its refrence point in order to project the given geometry data. "
   ]
  },
  {
   "cell_type": "markdown",
   "metadata": {},
   "source": [
    "4.2.3"
   ]
  },
  {
   "cell_type": "code",
   "execution_count": 58,
   "metadata": {},
   "outputs": [
    {
     "name": "stdout",
     "output_type": "stream",
     "text": [
      "<class 'geopandas.geodataframe.GeoDataFrame'>\n",
      "RangeIndex: 281 entries, 0 to 280\n",
      "Data columns (total 18 columns):\n",
      " #   Column           Non-Null Count  Dtype   \n",
      "---  ------           --------------  -----   \n",
      " 0   OBJECTID         281 non-null    int64   \n",
      " 1   zip              281 non-null    object  \n",
      " 2   jenicategory     281 non-null    object  \n",
      " 3   jenipctl         281 non-null    float64 \n",
      " 4   jenirank         281 non-null    int64   \n",
      " 5   riskcategory     281 non-null    object  \n",
      " 6   riskpctl         281 non-null    float64 \n",
      " 7   driverscategory  281 non-null    object  \n",
      " 8   driverspctl      281 non-null    float64 \n",
      " 9   systemcategory   281 non-null    object  \n",
      " 10  systempctl       281 non-null    float64 \n",
      " 11  neighborhood     281 non-null    object  \n",
      " 12  sup_dist         280 non-null    object  \n",
      " 13  spa              280 non-null    object  \n",
      " 14  csa              278 non-null    object  \n",
      " 15  SHAPE_Length     281 non-null    float64 \n",
      " 16  SHAPE_Area       281 non-null    float64 \n",
      " 17  geometry         281 non-null    geometry\n",
      "dtypes: float64(6), geometry(1), int64(2), object(9)\n",
      "memory usage: 39.6+ KB\n"
     ]
    }
   ],
   "source": [
    "data.info()"
   ]
  },
  {
   "cell_type": "code",
   "execution_count": 60,
   "metadata": {},
   "outputs": [
    {
     "data": {
      "text/plain": [
       "Index(['OBJECTID', 'zip', 'jenicategory', 'jenipctl', 'jenirank',\n",
       "       'riskcategory', 'riskpctl', 'driverscategory', 'driverspctl',\n",
       "       'systemcategory', 'systempctl', 'neighborhood', 'sup_dist', 'spa',\n",
       "       'csa', 'SHAPE_Length', 'SHAPE_Area', 'geometry'],\n",
       "      dtype='object')"
      ]
     },
     "execution_count": 60,
     "metadata": {},
     "output_type": "execute_result"
    }
   ],
   "source": [
    "data.columns"
   ]
  },
  {
   "cell_type": "code",
   "execution_count": 65,
   "metadata": {},
   "outputs": [
    {
     "data": {
      "text/html": [
       "<div>\n",
       "<style scoped>\n",
       "    .dataframe tbody tr th:only-of-type {\n",
       "        vertical-align: middle;\n",
       "    }\n",
       "\n",
       "    .dataframe tbody tr th {\n",
       "        vertical-align: top;\n",
       "    }\n",
       "\n",
       "    .dataframe thead th {\n",
       "        text-align: right;\n",
       "    }\n",
       "</style>\n",
       "<table border=\"1\" class=\"dataframe\">\n",
       "  <thead>\n",
       "    <tr style=\"text-align: right;\">\n",
       "      <th></th>\n",
       "      <th>OBJECTID</th>\n",
       "      <th>zip</th>\n",
       "      <th>jenicategory</th>\n",
       "      <th>jenipctl</th>\n",
       "      <th>jenirank</th>\n",
       "      <th>riskcategory</th>\n",
       "      <th>riskpctl</th>\n",
       "      <th>driverscategory</th>\n",
       "      <th>driverspctl</th>\n",
       "      <th>systemcategory</th>\n",
       "      <th>systempctl</th>\n",
       "      <th>neighborhood</th>\n",
       "      <th>sup_dist</th>\n",
       "      <th>spa</th>\n",
       "      <th>csa</th>\n",
       "      <th>SHAPE_Length</th>\n",
       "      <th>SHAPE_Area</th>\n",
       "      <th>geometry</th>\n",
       "    </tr>\n",
       "  </thead>\n",
       "  <tbody>\n",
       "    <tr>\n",
       "      <th>0</th>\n",
       "      <td>1</td>\n",
       "      <td>91108</td>\n",
       "      <td>Lowest</td>\n",
       "      <td>0.0</td>\n",
       "      <td>277</td>\n",
       "      <td>Lowest</td>\n",
       "      <td>0.4</td>\n",
       "      <td>Lowest</td>\n",
       "      <td>0.7</td>\n",
       "      <td>Lowest</td>\n",
       "      <td>3.3</td>\n",
       "      <td>San Marino</td>\n",
       "      <td>District 5</td>\n",
       "      <td>SPA 3 - San Gabriel</td>\n",
       "      <td>City of San Marino</td>\n",
       "      <td>0.177419</td>\n",
       "      <td>0.000962</td>\n",
       "      <td>MULTIPOLYGON (((-118.10864 34.13733, -118.1084...</td>\n",
       "    </tr>\n",
       "    <tr>\n",
       "      <th>1</th>\n",
       "      <td>2</td>\n",
       "      <td>90631</td>\n",
       "      <td>Lowest</td>\n",
       "      <td>0.4</td>\n",
       "      <td>276</td>\n",
       "      <td>Lowest</td>\n",
       "      <td>2.9</td>\n",
       "      <td>Lowest</td>\n",
       "      <td>1.8</td>\n",
       "      <td>Lowest</td>\n",
       "      <td>0.7</td>\n",
       "      <td>La Habra Heights</td>\n",
       "      <td>District 4</td>\n",
       "      <td>SPA 7 - East</td>\n",
       "      <td>City of La Habra Heights</td>\n",
       "      <td>0.234952</td>\n",
       "      <td>0.001614</td>\n",
       "      <td>MULTIPOLYGON (((-117.94274 33.97488, -117.9427...</td>\n",
       "    </tr>\n",
       "    <tr>\n",
       "      <th>2</th>\n",
       "      <td>3</td>\n",
       "      <td>90274</td>\n",
       "      <td>Lowest</td>\n",
       "      <td>0.7</td>\n",
       "      <td>275</td>\n",
       "      <td>Lowest</td>\n",
       "      <td>3.6</td>\n",
       "      <td>Lowest</td>\n",
       "      <td>0.0</td>\n",
       "      <td>Lowest</td>\n",
       "      <td>7.2</td>\n",
       "      <td>Palos Verdes Estates</td>\n",
       "      <td>District 4</td>\n",
       "      <td>SPA 8 - South Bay</td>\n",
       "      <td>City of Rancho Palos Verdes</td>\n",
       "      <td>0.563332</td>\n",
       "      <td>0.003029</td>\n",
       "      <td>MULTIPOLYGON (((-118.39057 33.80426, -118.3905...</td>\n",
       "    </tr>\n",
       "    <tr>\n",
       "      <th>3</th>\n",
       "      <td>4</td>\n",
       "      <td>91361</td>\n",
       "      <td>Lowest</td>\n",
       "      <td>1.1</td>\n",
       "      <td>274</td>\n",
       "      <td>Lowest</td>\n",
       "      <td>12.2</td>\n",
       "      <td>Lowest</td>\n",
       "      <td>0.4</td>\n",
       "      <td>Lowest</td>\n",
       "      <td>5.1</td>\n",
       "      <td>Westlake Village</td>\n",
       "      <td>District 3</td>\n",
       "      <td>SPA 2 - San Fernando</td>\n",
       "      <td>City of Westlake Village</td>\n",
       "      <td>0.197748</td>\n",
       "      <td>0.001336</td>\n",
       "      <td>MULTIPOLYGON (((-118.80028 34.14798, -118.7995...</td>\n",
       "    </tr>\n",
       "    <tr>\n",
       "      <th>4</th>\n",
       "      <td>5</td>\n",
       "      <td>90275</td>\n",
       "      <td>Lowest</td>\n",
       "      <td>1.4</td>\n",
       "      <td>273</td>\n",
       "      <td>Lowest</td>\n",
       "      <td>6.8</td>\n",
       "      <td>Lowest</td>\n",
       "      <td>3.6</td>\n",
       "      <td>Lowest</td>\n",
       "      <td>6.2</td>\n",
       "      <td>Rancho Palos Verdes</td>\n",
       "      <td>District 4</td>\n",
       "      <td>SPA 8 - South Bay</td>\n",
       "      <td>City of Rancho Palos Verdes</td>\n",
       "      <td>0.624171</td>\n",
       "      <td>0.003365</td>\n",
       "      <td>MULTIPOLYGON (((-118.39313 33.73857, -118.3931...</td>\n",
       "    </tr>\n",
       "    <tr>\n",
       "      <th>5</th>\n",
       "      <td>6</td>\n",
       "      <td>90077</td>\n",
       "      <td>Lowest</td>\n",
       "      <td>1.8</td>\n",
       "      <td>272</td>\n",
       "      <td>Lowest</td>\n",
       "      <td>2.5</td>\n",
       "      <td>Lowest</td>\n",
       "      <td>13.6</td>\n",
       "      <td>Lowest</td>\n",
       "      <td>1.4</td>\n",
       "      <td>Bel-Air</td>\n",
       "      <td>District 3</td>\n",
       "      <td>SPA 5 - West</td>\n",
       "      <td>Los Angeles - Bel Air</td>\n",
       "      <td>0.268660</td>\n",
       "      <td>0.001831</td>\n",
       "      <td>MULTIPOLYGON (((-118.45549 34.13449, -118.4555...</td>\n",
       "    </tr>\n",
       "    <tr>\n",
       "      <th>6</th>\n",
       "      <td>7</td>\n",
       "      <td>91436</td>\n",
       "      <td>Lowest</td>\n",
       "      <td>2.2</td>\n",
       "      <td>271</td>\n",
       "      <td>Lowest</td>\n",
       "      <td>10.4</td>\n",
       "      <td>Lowest</td>\n",
       "      <td>5.4</td>\n",
       "      <td>Lowest</td>\n",
       "      <td>2.5</td>\n",
       "      <td>Encino</td>\n",
       "      <td>District 3</td>\n",
       "      <td>SPA 2 - San Fernando</td>\n",
       "      <td>Los Angeles - Encino</td>\n",
       "      <td>0.232985</td>\n",
       "      <td>0.001614</td>\n",
       "      <td>MULTIPOLYGON (((-118.49296 34.18609, -118.4929...</td>\n",
       "    </tr>\n",
       "    <tr>\n",
       "      <th>7</th>\n",
       "      <td>8</td>\n",
       "      <td>90094</td>\n",
       "      <td>Lowest</td>\n",
       "      <td>2.5</td>\n",
       "      <td>270</td>\n",
       "      <td>Lowest</td>\n",
       "      <td>9.0</td>\n",
       "      <td>Lowest</td>\n",
       "      <td>6.5</td>\n",
       "      <td>Lowest</td>\n",
       "      <td>4.7</td>\n",
       "      <td>Playa Vista</td>\n",
       "      <td>District 2</td>\n",
       "      <td>SPA 5 - West</td>\n",
       "      <td>Los Angeles - Playa Vista</td>\n",
       "      <td>0.152547</td>\n",
       "      <td>0.000306</td>\n",
       "      <td>MULTIPOLYGON (((-118.40129 33.98378, -118.4008...</td>\n",
       "    </tr>\n",
       "    <tr>\n",
       "      <th>8</th>\n",
       "      <td>9</td>\n",
       "      <td>91007</td>\n",
       "      <td>Lowest</td>\n",
       "      <td>2.9</td>\n",
       "      <td>269</td>\n",
       "      <td>Lowest</td>\n",
       "      <td>3.2</td>\n",
       "      <td>Lowest</td>\n",
       "      <td>10.0</td>\n",
       "      <td>Lowest</td>\n",
       "      <td>6.9</td>\n",
       "      <td>Arcadia</td>\n",
       "      <td>District 5</td>\n",
       "      <td>SPA 3 - San Gabriel</td>\n",
       "      <td>City of Arcadia</td>\n",
       "      <td>0.212972</td>\n",
       "      <td>0.001380</td>\n",
       "      <td>MULTIPOLYGON (((-118.05051 34.14841, -118.0500...</td>\n",
       "    </tr>\n",
       "    <tr>\n",
       "      <th>9</th>\n",
       "      <td>10</td>\n",
       "      <td>90049</td>\n",
       "      <td>Lowest</td>\n",
       "      <td>3.3</td>\n",
       "      <td>268</td>\n",
       "      <td>Lowest</td>\n",
       "      <td>13.6</td>\n",
       "      <td>Lowest</td>\n",
       "      <td>2.5</td>\n",
       "      <td>Lowest</td>\n",
       "      <td>4.3</td>\n",
       "      <td>Brentwood</td>\n",
       "      <td>District 3</td>\n",
       "      <td>SPA 5 - West</td>\n",
       "      <td>Los Angeles - Brentwood</td>\n",
       "      <td>0.395030</td>\n",
       "      <td>0.003870</td>\n",
       "      <td>MULTIPOLYGON (((-118.48933 34.13154, -118.4886...</td>\n",
       "    </tr>\n",
       "  </tbody>\n",
       "</table>\n",
       "</div>"
      ],
      "text/plain": [
       "   OBJECTID    zip jenicategory  jenipctl  jenirank riskcategory  riskpctl  \\\n",
       "0         1  91108       Lowest       0.0       277       Lowest       0.4   \n",
       "1         2  90631       Lowest       0.4       276       Lowest       2.9   \n",
       "2         3  90274       Lowest       0.7       275       Lowest       3.6   \n",
       "3         4  91361       Lowest       1.1       274       Lowest      12.2   \n",
       "4         5  90275       Lowest       1.4       273       Lowest       6.8   \n",
       "5         6  90077       Lowest       1.8       272       Lowest       2.5   \n",
       "6         7  91436       Lowest       2.2       271       Lowest      10.4   \n",
       "7         8  90094       Lowest       2.5       270       Lowest       9.0   \n",
       "8         9  91007       Lowest       2.9       269       Lowest       3.2   \n",
       "9        10  90049       Lowest       3.3       268       Lowest      13.6   \n",
       "\n",
       "  driverscategory  driverspctl systemcategory  systempctl  \\\n",
       "0          Lowest          0.7         Lowest         3.3   \n",
       "1          Lowest          1.8         Lowest         0.7   \n",
       "2          Lowest          0.0         Lowest         7.2   \n",
       "3          Lowest          0.4         Lowest         5.1   \n",
       "4          Lowest          3.6         Lowest         6.2   \n",
       "5          Lowest         13.6         Lowest         1.4   \n",
       "6          Lowest          5.4         Lowest         2.5   \n",
       "7          Lowest          6.5         Lowest         4.7   \n",
       "8          Lowest         10.0         Lowest         6.9   \n",
       "9          Lowest          2.5         Lowest         4.3   \n",
       "\n",
       "           neighborhood    sup_dist                   spa  \\\n",
       "0            San Marino  District 5   SPA 3 - San Gabriel   \n",
       "1      La Habra Heights  District 4          SPA 7 - East   \n",
       "2  Palos Verdes Estates  District 4     SPA 8 - South Bay   \n",
       "3      Westlake Village  District 3  SPA 2 - San Fernando   \n",
       "4   Rancho Palos Verdes  District 4     SPA 8 - South Bay   \n",
       "5               Bel-Air  District 3          SPA 5 - West   \n",
       "6                Encino  District 3  SPA 2 - San Fernando   \n",
       "7           Playa Vista  District 2          SPA 5 - West   \n",
       "8               Arcadia  District 5   SPA 3 - San Gabriel   \n",
       "9             Brentwood  District 3          SPA 5 - West   \n",
       "\n",
       "                           csa  SHAPE_Length  SHAPE_Area  \\\n",
       "0           City of San Marino      0.177419    0.000962   \n",
       "1     City of La Habra Heights      0.234952    0.001614   \n",
       "2  City of Rancho Palos Verdes      0.563332    0.003029   \n",
       "3     City of Westlake Village      0.197748    0.001336   \n",
       "4  City of Rancho Palos Verdes      0.624171    0.003365   \n",
       "5        Los Angeles - Bel Air      0.268660    0.001831   \n",
       "6         Los Angeles - Encino      0.232985    0.001614   \n",
       "7    Los Angeles - Playa Vista      0.152547    0.000306   \n",
       "8              City of Arcadia      0.212972    0.001380   \n",
       "9      Los Angeles - Brentwood      0.395030    0.003870   \n",
       "\n",
       "                                            geometry  \n",
       "0  MULTIPOLYGON (((-118.10864 34.13733, -118.1084...  \n",
       "1  MULTIPOLYGON (((-117.94274 33.97488, -117.9427...  \n",
       "2  MULTIPOLYGON (((-118.39057 33.80426, -118.3905...  \n",
       "3  MULTIPOLYGON (((-118.80028 34.14798, -118.7995...  \n",
       "4  MULTIPOLYGON (((-118.39313 33.73857, -118.3931...  \n",
       "5  MULTIPOLYGON (((-118.45549 34.13449, -118.4555...  \n",
       "6  MULTIPOLYGON (((-118.49296 34.18609, -118.4929...  \n",
       "7  MULTIPOLYGON (((-118.40129 33.98378, -118.4008...  \n",
       "8  MULTIPOLYGON (((-118.05051 34.14841, -118.0500...  \n",
       "9  MULTIPOLYGON (((-118.48933 34.13154, -118.4886...  "
      ]
     },
     "execution_count": 65,
     "metadata": {},
     "output_type": "execute_result"
    }
   ],
   "source": [
    "data.head(10)"
   ]
  },
  {
   "cell_type": "code",
   "execution_count": 68,
   "metadata": {},
   "outputs": [],
   "source": [
    "dataorig = data.copy()"
   ]
  },
  {
   "cell_type": "code",
   "execution_count": 69,
   "metadata": {},
   "outputs": [],
   "source": [
    "data = data.to_crs(epsg=3857)\n",
    "%matplotlib inline\n",
    "import matplotlib.pyplot as plt"
   ]
  },
  {
   "cell_type": "code",
   "execution_count": 74,
   "metadata": {},
   "outputs": [
    {
     "data": {
      "image/png": "[encoded data removed]",
      "text/plain": [
       "<Figure size 1200x800 with 2 Axes>"
      ]
     },
     "metadata": {},
     "output_type": "display_data"
    }
   ],
   "source": [
    "fig, (ax1, ax2) = plt.subplots(nrows=1, ncols=2, figsize=(12, 8))\n",
    "dataorig.plot(ax=ax1, facecolor='gray');\n",
    "ax1.set_title(\"WGS84\");\n",
    "data.plot(ax=ax2, facecolor='red');\n",
    "ax2.set_title(\"Justice Equity Need Index (crs: 3857)\");\n",
    "plt.tight_layout()"
   ]
  },
  {
   "cell_type": "markdown",
   "metadata": {},
   "source": [
    "The map in the reprojected image depicts a more accurate representation of Los Angeles county. It is not as stretched out or as far as the WGS 84 projection. "
   ]
  }
 ],
 "metadata": {
  "kernelspec": {
   "display_name": "Python 3 (ipykernel)",
   "language": "python",
   "name": "python3"
  },
  "language_info": {
   "codemirror_mode": {
    "name": "ipython",
    "version": 3
   },
   "file_extension": ".py",
   "mimetype": "text/x-python",
   "name": "python",
   "nbconvert_exporter": "python",
   "pygments_lexer": "ipython3",
   "version": "3.9.15"
  },
  "vscode": {
   "interpreter": {
    "hash": "31733d31b68f2bf33a40ef3744aa6e6dabc719cffbfa95fe2fcbd4a0d9e78042"
   }
  }
 },
 "nbformat": 4,
 "nbformat_minor": 4
}
