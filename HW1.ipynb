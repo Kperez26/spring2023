{
 "cells": [
  {
   "cell_type": "markdown",
   "id": "7aeced1d",
   "metadata": {},
   "source": [
    "Exercise 2.1 - Getting started with Python\n",
    "The goal of this exercise is to print text like that below to the screen based on variable values you define.\n",
    "\n",
    "My name is Brianna and I give eating ice cream a score of 9 out of 10!\n",
    "My sleeping enjoyment rating is 8 / 10!\n",
    "Based on the factors above, my happiness rating is 8.5 out of 10 or 85.0 %!\n",
    "For this exercise you should:\n",
    "\n",
    "Create three variables: one integer value (whole number) for your ice cream rating, another integer for your sleeping rating, and a character string for your first name.\n",
    "Calculate the average of the two ratings. Store the result in a variable for your happiness.\n",
    "Find the data type of each of the variables you have defined. Are there any surprises?\n",
    "Reproduce your version of the example text using the print() function and the variables you have defined. Note that you may need to be careful combining text and numbers!"
   ]
  },
  {
   "cell_type": "code",
   "execution_count": 8,
   "id": "bee49808",
   "metadata": {},
   "outputs": [
    {
     "name": "stdout",
     "output_type": "stream",
     "text": [
      "My name is Kelly Perez and I give eating ice cream a score of 8 out of 10!\n",
      "My sleep enjoyment rating is 7 /10!\n"
     ]
    }
   ],
   "source": [
    "ice_cream_rating = 8\n",
    "sleep_rating = 7\n",
    "name = 'Kelly Perez'\n",
    "print('My name is',\n",
    "     name,\n",
    "     'and I give eating ice cream a score of',\n",
    "     ice_cream_rating,\n",
    "     'out of 10!')\n",
    "print('My sleep enjoyment rating is',\n",
    "     sleep_rating,\n",
    "     '/10!')"
   ]
  },
  {
   "cell_type": "code",
   "execution_count": 22,
   "id": "7216f456",
   "metadata": {},
   "outputs": [
    {
     "name": "stdout",
     "output_type": "stream",
     "text": [
      "7.5\n",
      "Based on the factors above, my happiness rating is 7.5 out of 10 or 75.0%\n"
     ]
    }
   ],
   "source": [
    "sum =  ice_cream_rating + sleep_rating \n",
    "happiness_rating = sum/2\n",
    "print(happiness_rating)\n",
    "happiness_percent = happiness_rating * 10 \n",
    "happiness_percent = str(happiness_percent) + '%'\n",
    "print('Based on the factors above, my happiness rating is',\n",
    "     happiness_rating,\n",
    "     'out of 10 or',\n",
    "     happiness_percent,\n",
    "     )"
   ]
  },
  {
   "cell_type": "code",
   "execution_count": 24,
   "id": "1d195ffb",
   "metadata": {},
   "outputs": [
    {
     "data": {
      "text/plain": [
       "int"
      ]
     },
     "execution_count": 24,
     "metadata": {},
     "output_type": "execute_result"
    }
   ],
   "source": [
    "type(ice_cream_rating)"
   ]
  },
  {
   "cell_type": "code",
   "execution_count": 25,
   "id": "28bb117e",
   "metadata": {},
   "outputs": [
    {
     "data": {
      "text/plain": [
       "int"
      ]
     },
     "execution_count": 25,
     "metadata": {},
     "output_type": "execute_result"
    }
   ],
   "source": [
    "type(sleep_rating)"
   ]
  },
  {
   "cell_type": "code",
   "execution_count": 26,
   "id": "b7c4e058",
   "metadata": {},
   "outputs": [
    {
     "data": {
      "text/plain": [
       "str"
      ]
     },
     "execution_count": 26,
     "metadata": {},
     "output_type": "execute_result"
    }
   ],
   "source": [
    "type(happiness_percent)"
   ]
  },
  {
   "cell_type": "code",
   "execution_count": 27,
   "id": "7f3de990",
   "metadata": {},
   "outputs": [
    {
     "data": {
      "text/plain": [
       "str"
      ]
     },
     "execution_count": 27,
     "metadata": {},
     "output_type": "execute_result"
    }
   ],
   "source": [
    "type(name)"
   ]
  },
  {
   "cell_type": "code",
   "execution_count": 29,
   "id": "e793affc",
   "metadata": {},
   "outputs": [
    {
     "data": {
      "text/plain": [
       "float"
      ]
     },
     "execution_count": 29,
     "metadata": {},
     "output_type": "execute_result"
    }
   ],
   "source": [
    "type(happiness_rating)\n",
    "#was not expecting this to be a float, thought it would be an integer"
   ]
  }
 ],
 "metadata": {
  "kernelspec": {
   "display_name": "Python 3 (ipykernel)",
   "language": "python",
   "name": "python3"
  },
  "language_info": {
   "codemirror_mode": {
    "name": "ipython",
    "version": 3
   },
   "file_extension": ".py",
   "mimetype": "text/x-python",
   "name": "python",
   "nbconvert_exporter": "python",
   "pygments_lexer": "ipython3",
   "version": "3.9.12"
  }
 },
 "nbformat": 4,
 "nbformat_minor": 5
}
