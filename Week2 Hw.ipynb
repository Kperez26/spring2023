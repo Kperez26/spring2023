{
 "cells": [
  {
   "cell_type": "markdown",
   "id": "fadf297e",
   "metadata": {},
   "source": [
    "Exercise 2.1 - Getting started with Python The goal of this exercise is to print text like that below to the screen based on variable values you define.\n",
    "\n",
    "My name is Brianna and I give eating ice cream a score of 9 out of 10! My sleeping enjoyment rating is 8 / 10! Based on the factors above, my happiness rating is 8.5 out of 10 or 85.0 %! For this exercise you should:\n",
    "\n",
    "Create three variables: one integer value (whole number) for your ice cream rating, another integer for your sleeping rating, and a character string for your first name. Calculate the average of the two ratings. Store the result in a variable for your happiness. Find the data type of each of the variables you have defined. Are there any surprises? Reproduce your version of the example text using the print() function and the variables you have defined. Note that you may need to be careful combining text and numbers!"
   ]
  },
  {
   "cell_type": "code",
   "execution_count": 2,
   "id": "b725437a",
   "metadata": {},
   "outputs": [
    {
     "name": "stdout",
     "output_type": "stream",
     "text": [
      "My name is Kelly Perez and I give eating ice cream a score of 8 out of 10!\n",
      "My sleep enjoyment rating is 7 /10!\n"
     ]
    }
   ],
   "source": [
    "ice_cream_rating = 8\n",
    "sleep_rating = 7\n",
    "name = 'Kelly Perez'\n",
    "print('My name is',\n",
    "     name,\n",
    "     'and I give eating ice cream a score of',\n",
    "     ice_cream_rating,\n",
    "     'out of 10!')\n",
    "print('My sleep enjoyment rating is',\n",
    "     sleep_rating,\n",
    "     '/10!')"
   ]
  },
  {
   "cell_type": "code",
   "execution_count": 3,
   "id": "f2d43da1",
   "metadata": {},
   "outputs": [
    {
     "name": "stdout",
     "output_type": "stream",
     "text": [
      "7.5\n",
      "Based on the factors above, my happiness rating is 7.5 out of 10 or 75.0%\n"
     ]
    }
   ],
   "source": [
    "sum =  ice_cream_rating + sleep_rating \n",
    "happiness_rating = sum/2\n",
    "print(happiness_rating)\n",
    "happiness_percent = happiness_rating * 10 \n",
    "happiness_percent = str(happiness_percent) + '%'\n",
    "print('Based on the factors above, my happiness rating is',\n",
    "     happiness_rating,\n",
    "     'out of 10 or',\n",
    "     happiness_percent,\n",
    "     )"
   ]
  },
  {
   "cell_type": "code",
   "execution_count": 4,
   "id": "5b72934e",
   "metadata": {},
   "outputs": [
    {
     "data": {
      "text/plain": [
       "int"
      ]
     },
     "execution_count": 4,
     "metadata": {},
     "output_type": "execute_result"
    }
   ],
   "source": [
    "type(ice_cream_rating)"
   ]
  },
  {
   "cell_type": "code",
   "execution_count": 5,
   "id": "919b1f28",
   "metadata": {},
   "outputs": [
    {
     "data": {
      "text/plain": [
       "int"
      ]
     },
     "execution_count": 5,
     "metadata": {},
     "output_type": "execute_result"
    }
   ],
   "source": [
    "type(sleep_rating)"
   ]
  },
  {
   "cell_type": "code",
   "execution_count": 6,
   "id": "1c6d593d",
   "metadata": {},
   "outputs": [
    {
     "data": {
      "text/plain": [
       "str"
      ]
     },
     "execution_count": 6,
     "metadata": {},
     "output_type": "execute_result"
    }
   ],
   "source": [
    "type(happiness_percent)"
   ]
  },
  {
   "cell_type": "code",
   "execution_count": 7,
   "id": "63f4b485",
   "metadata": {},
   "outputs": [
    {
     "data": {
      "text/plain": [
       "str"
      ]
     },
     "execution_count": 7,
     "metadata": {},
     "output_type": "execute_result"
    }
   ],
   "source": [
    "type(name)"
   ]
  },
  {
   "cell_type": "code",
   "execution_count": 8,
   "id": "dff60913",
   "metadata": {},
   "outputs": [
    {
     "data": {
      "text/plain": [
       "float"
      ]
     },
     "execution_count": 8,
     "metadata": {},
     "output_type": "execute_result"
    }
   ],
   "source": [
    "type(happiness_rating)\n",
    "#was not expecting this to be a float, thought it would be an integer"
   ]
  },
  {
   "cell_type": "markdown",
   "id": "a550eec6",
   "metadata": {},
   "source": [
    "Create two lists for the station names and first years of operation for the stations in Group 1 in Table 2.5. Be sure to list the values in the order they appear in the table. Modify the lists you just created to add the values Group 2, again keeping them in the same order. Sort the two lists, sorting the first in alphabetical order and the second so that the most recent starting year is first Do you see any problems with how the lists have been sorted? Python has a function called zip() that might be helpful in solving the sorting issue. Search online to see whether you can find a way to use zip() to solve the problem with the two lists."
   ]
  },
  {
   "cell_type": "code",
   "execution_count": 35,
   "id": "aa4d0291",
   "metadata": {},
   "outputs": [
    {
     "name": "stdout",
     "output_type": "stream",
     "text": [
      "['lighthouse', 'Harmaja', 'Suomenlinna aaltopoiju', 'Kumpula', 'Kaisaniemi', 'Malmi airfield', 'Vuosaari harbour', 'Kaivopuisto']\n"
     ]
    }
   ],
   "source": [
    "group1 = [\"lighthouse\", \"Harmaja\", \"Suomenlinna aaltopoiju\", \"Kumpula\",\n",
    "               \"Kaisaniemi\"]\n",
    "group1.append('Malmi airfield')\n",
    "group1.append('Vuosaari harbour')\n",
    "group1.append('Kaivopuisto')\n",
    "group1_yrs = [2003, 1989, 2016, 2005, 1844]\n",
    "print(group1)"
   ]
  },
  {
   "cell_type": "code",
   "execution_count": 36,
   "id": "4118b325",
   "metadata": {},
   "outputs": [
    {
     "name": "stdout",
     "output_type": "stream",
     "text": [
      "[2003, 1989, 2016, 2005, 1844, '1937', '2012', '1904']\n"
     ]
    }
   ],
   "source": [
    "group1_yrs.append('1937')\n",
    "group1_yrs.append('2012')\n",
    "group1_yrs.append('1904')\n",
    "print(group1_yrs)"
   ]
  },
  {
   "cell_type": "code",
   "execution_count": 37,
   "id": "886d8049",
   "metadata": {},
   "outputs": [
    {
     "name": "stdout",
     "output_type": "stream",
     "text": [
      "['Harmaja', 'Kaisaniemi', 'Kaivopuisto', 'Kumpula', 'Malmi airfield', 'Suomenlinna aaltopoiju', 'Vuosaari harbour', 'lighthouse']\n"
     ]
    }
   ],
   "source": [
    "group1.sort()\n",
    "print(group1)"
   ]
  },
  {
   "cell_type": "code",
   "execution_count": 38,
   "id": "ade5a1fe",
   "metadata": {},
   "outputs": [
    {
     "name": "stdout",
     "output_type": "stream",
     "text": [
      "[2016, '2012', 2005, 2003, 1989, '1937', '1904', 1844]\n"
     ]
    }
   ],
   "source": [
    "group1_yrs.sort(key = int)\n",
    "group1_yrs.reverse()\n",
    "print(group1_yrs)\n",
    "#year and station name no longer correspond to eachother"
   ]
  },
  {
   "cell_type": "code",
   "execution_count": 58,
   "id": "9bbc630b",
   "metadata": {},
   "outputs": [
    {
     "data": {
      "text/plain": [
       "('Harmaja',\n",
       " 'Kaisaniemi',\n",
       " 'Kaivopuisto',\n",
       " 'Kumpula',\n",
       " 'Malmi airfield',\n",
       " 'Suomenlinna aaltopoiju',\n",
       " 'Vuosaari harbour',\n",
       " 'lighthouse')"
      ]
     },
     "execution_count": 58,
     "metadata": {},
     "output_type": "execute_result"
    }
   ],
   "source": [
    "group1"
   ]
  },
  {
   "cell_type": "code",
   "execution_count": 60,
   "id": "9c7c6acc",
   "metadata": {},
   "outputs": [],
   "source": [
    "group1_yrs_sorted = [1989, 1844, 1904, 2005, 1937, 2016, 2012, 2003]"
   ]
  },
  {
   "cell_type": "code",
   "execution_count": 61,
   "id": "ebe0b797",
   "metadata": {},
   "outputs": [
    {
     "name": "stdout",
     "output_type": "stream",
     "text": [
      "[('Harmaja', 1989), ('Kaisaniemi', 1844), ('Kaivopuisto', 1904), ('Kumpula', 2005), ('Malmi airfield', 1937), ('Suomenlinna aaltopoiju', 2016), ('Vuosaari harbour', 2012), ('lighthouse', 2003)]\n"
     ]
    }
   ],
   "source": [
    "sorted_names_yrs = sorted(list(zip(group1, group1_yrs_sorted)))\n",
    "print(sorted_names_yrs)"
   ]
  },
  {
   "cell_type": "code",
   "execution_count": 66,
   "id": "78580e0e",
   "metadata": {},
   "outputs": [],
   "source": [
    "month = ['January', 'February','March', 'April',\n",
    "        'May', 'June', 'July', 'August', 'September', 'October', \n",
    "        'November', 'December']\n",
    "temp = [-3.5, -4.5, -1, 4.0, 10.0, 15.0, 18.0, 16.0, 11.5, 6.0, 2.0, -1.5]"
   ]
  },
  {
   "cell_type": "code",
   "execution_count": 67,
   "id": "9250471d",
   "metadata": {},
   "outputs": [
    {
     "name": "stdout",
     "output_type": "stream",
     "text": [
      "The average temperature in Helsinki in January is -3.5\n",
      "The average temperature in Helsinki in February is -4.5\n",
      "The average temperature in Helsinki in March is -1\n",
      "The average temperature in Helsinki in April is 4.0\n",
      "The average temperature in Helsinki in May is 10.0\n",
      "The average temperature in Helsinki in June is 15.0\n",
      "The average temperature in Helsinki in July is 18.0\n",
      "The average temperature in Helsinki in August is 16.0\n",
      "The average temperature in Helsinki in September is 11.5\n",
      "The average temperature in Helsinki in October is 6.0\n",
      "The average temperature in Helsinki in November is 2.0\n",
      "The average temperature in Helsinki in December is -1.5\n"
     ]
    }
   ],
   "source": [
    "for i in range(len(month)):\n",
    "    print('The average temperature in Helsinki in',\n",
    "          month[i],\n",
    "          'is',\n",
    "          temp[i])\n",
    "          "
   ]
  },
  {
   "cell_type": "markdown",
   "id": "c581fa5d",
   "metadata": {},
   "source": [
    "Exercise 2.4 - Batch processing files with a for loop\n",
    "Batch processing is a common task in Python, where a set of data and/or files are analyzed one after another using the same script or program. In this exercise your goal is to produce a Python list of filenames that could be used to batch process the data they contain."
   ]
  },
  {
   "cell_type": "code",
   "execution_count": 132,
   "id": "2d04696f",
   "metadata": {},
   "outputs": [
    {
     "name": "stdout",
     "output_type": "stream",
     "text": [
      "Station_ 0 .txt\n",
      "Station_ 1 .txt\n",
      "Station_ 2 .txt\n",
      "Station_ 3 .txt\n",
      "Station_ 4 .txt\n",
      "Station_ 5 .txt\n",
      "Station_ 6 .txt\n",
      "Station_ 7 .txt\n",
      "Station_ 8 .txt\n",
      "Station_ 9 .txt\n",
      "Station_ 10 .txt\n",
      "Station_ 11 .txt\n",
      "Station_ 12 .txt\n",
      "Station_ 13 .txt\n",
      "Station_ 14 .txt\n",
      "Station_ 15 .txt\n",
      "Station_ 16 .txt\n",
      "Station_ 17 .txt\n",
      "Station_ 18 .txt\n",
      "Station_ 19 .txt\n",
      "Station_ 20 .txt\n"
     ]
    }
   ],
   "source": [
    "ls = []\n",
    "stations = 'Station_'\n",
    "txt = '.txt'\n",
    "for i in range(21):\n",
    "    print(stations, i, txt)"
   ]
  }
 ],
 "metadata": {
  "kernelspec": {
   "display_name": "Python 3 (ipykernel)",
   "language": "python",
   "name": "python3"
  },
  "language_info": {
   "codemirror_mode": {
    "name": "ipython",
    "version": 3
   },
   "file_extension": ".py",
   "mimetype": "text/x-python",
   "name": "python",
   "nbconvert_exporter": "python",
   "pygments_lexer": "ipython3",
   "version": "3.9.12"
  }
 },
 "nbformat": 4,
 "nbformat_minor": 5
}
