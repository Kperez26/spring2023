{
 "cells": [
  {
   "cell_type": "markdown",
   "id": "fadf297e",
   "metadata": {},
   "source": [
    "Exercise 2.1 - Getting started with Python The goal of this exercise is to print text like that below to the screen based on variable values you define.\n",
    "\n",
    "My name is Brianna and I give eating ice cream a score of 9 out of 10! My sleeping enjoyment rating is 8 / 10! Based on the factors above, my happiness rating is 8.5 out of 10 or 85.0 %! For this exercise you should:\n",
    "\n",
    "Create three variables: one integer value (whole number) for your ice cream rating, another integer for your sleeping rating, and a character string for your first name. Calculate the average of the two ratings. Store the result in a variable for your happiness. Find the data type of each of the variables you have defined. Are there any surprises? Reproduce your version of the example text using the print() function and the variables you have defined. Note that you may need to be careful combining text and numbers!"
   ]
  },
  {
   "cell_type": "code",
   "execution_count": 2,
   "id": "b725437a",
   "metadata": {},
   "outputs": [
    {
     "name": "stdout",
     "output_type": "stream",
     "text": [
      "My name is Kelly Perez and I give eating ice cream a score of 8 out of 10!\n",
      "My sleep enjoyment rating is 7 /10!\n"
     ]
    }
   ],
   "source": [
    "ice_cream_rating = 8\n",
    "sleep_rating = 7\n",
    "name = 'Kelly Perez'\n",
    "print('My name is',\n",
    "     name,\n",
    "     'and I give eating ice cream a score of',\n",
    "     ice_cream_rating,\n",
    "     'out of 10!')\n",
    "print('My sleep enjoyment rating is',\n",
    "     sleep_rating,\n",
    "     '/10!')"
   ]
  },
  {
   "cell_type": "code",
   "execution_count": 3,
   "id": "f2d43da1",
   "metadata": {},
   "outputs": [
    {
     "name": "stdout",
     "output_type": "stream",
     "text": [
      "7.5\n",
      "Based on the factors above, my happiness rating is 7.5 out of 10 or 75.0%\n"
     ]
    }
   ],
   "source": [
    "sum =  ice_cream_rating + sleep_rating \n",
    "happiness_rating = sum/2\n",
    "print(happiness_rating)\n",
    "happiness_percent = happiness_rating * 10 \n",
    "happiness_percent = str(happiness_percent) + '%'\n",
    "print('Based on the factors above, my happiness rating is',\n",
    "     happiness_rating,\n",
    "     'out of 10 or',\n",
    "     happiness_percent,\n",
    "     )"
   ]
  },
  {
   "cell_type": "code",
   "execution_count": 4,
   "id": "5b72934e",
   "metadata": {},
   "outputs": [
    {
     "data": {
      "text/plain": [
       "int"
      ]
     },
     "execution_count": 4,
     "metadata": {},
     "output_type": "execute_result"
    }
   ],
   "source": [
    "type(ice_cream_rating)"
   ]
  },
  {
   "cell_type": "code",
   "execution_count": 5,
   "id": "919b1f28",
   "metadata": {},
   "outputs": [
    {
     "data": {
      "text/plain": [
       "int"
      ]
     },
     "execution_count": 5,
     "metadata": {},
     "output_type": "execute_result"
    }
   ],
   "source": [
    "type(sleep_rating)"
   ]
  },
  {
   "cell_type": "code",
   "execution_count": 6,
   "id": "1c6d593d",
   "metadata": {},
   "outputs": [
    {
     "data": {
      "text/plain": [
       "str"
      ]
     },
     "execution_count": 6,
     "metadata": {},
     "output_type": "execute_result"
    }
   ],
   "source": [
    "type(happiness_percent)"
   ]
  },
  {
   "cell_type": "code",
   "execution_count": 7,
   "id": "63f4b485",
   "metadata": {},
   "outputs": [
    {
     "data": {
      "text/plain": [
       "str"
      ]
     },
     "execution_count": 7,
     "metadata": {},
     "output_type": "execute_result"
    }
   ],
   "source": [
    "type(name)"
   ]
  },
  {
   "cell_type": "code",
   "execution_count": 8,
   "id": "dff60913",
   "metadata": {},
   "outputs": [
    {
     "data": {
      "text/plain": [
       "float"
      ]
     },
     "execution_count": 8,
     "metadata": {},
     "output_type": "execute_result"
    }
   ],
   "source": [
    "type(happiness_rating)\n",
    "#was not expecting this to be a float, thought it would be an integer"
   ]
  },
  {
   "cell_type": "markdown",
   "id": "a550eec6",
   "metadata": {},
   "source": [
    "2.2 \n",
    "Create two lists for the station names and first years of operation for the stations in Group 1 in Table 2.5. Be sure to list the values in the order they appear in the table. Modify the lists you just created to add the values Group 2, again keeping them in the same order. Sort the two lists, sorting the first in alphabetical order and the second so that the most recent starting year is first Do you see any problems with how the lists have been sorted? Python has a function called zip() that might be helpful in solving the sorting issue. Search online to see whether you can find a way to use zip() to solve the problem with the two lists."
   ]
  },
  {
   "cell_type": "code",
   "execution_count": 35,
   "id": "aa4d0291",
   "metadata": {},
   "outputs": [
    {
     "name": "stdout",
     "output_type": "stream",
     "text": [
      "['lighthouse', 'Harmaja', 'Suomenlinna aaltopoiju', 'Kumpula', 'Kaisaniemi', 'Malmi airfield', 'Vuosaari harbour', 'Kaivopuisto']\n"
     ]
    }
   ],
   "source": [
    "group1 = [\"lighthouse\", \"Harmaja\", \"Suomenlinna aaltopoiju\", \"Kumpula\",\n",
    "               \"Kaisaniemi\"]\n",
    "group1.append('Malmi airfield')\n",
    "group1.append('Vuosaari harbour')\n",
    "group1.append('Kaivopuisto')\n",
    "group1_yrs = [2003, 1989, 2016, 2005, 1844]\n",
    "print(group1)"
   ]
  },
  {
   "cell_type": "code",
   "execution_count": 36,
   "id": "4118b325",
   "metadata": {},
   "outputs": [
    {
     "name": "stdout",
     "output_type": "stream",
     "text": [
      "[2003, 1989, 2016, 2005, 1844, '1937', '2012', '1904']\n"
     ]
    }
   ],
   "source": [
    "group1_yrs.append('1937')\n",
    "group1_yrs.append('2012')\n",
    "group1_yrs.append('1904')\n",
    "print(group1_yrs)"
   ]
  },
  {
   "cell_type": "code",
   "execution_count": 37,
   "id": "886d8049",
   "metadata": {},
   "outputs": [
    {
     "name": "stdout",
     "output_type": "stream",
     "text": [
      "['Harmaja', 'Kaisaniemi', 'Kaivopuisto', 'Kumpula', 'Malmi airfield', 'Suomenlinna aaltopoiju', 'Vuosaari harbour', 'lighthouse']\n"
     ]
    }
   ],
   "source": [
    "group1.sort()\n",
    "print(group1)"
   ]
  },
  {
   "cell_type": "code",
   "execution_count": 38,
   "id": "ade5a1fe",
   "metadata": {},
   "outputs": [
    {
     "name": "stdout",
     "output_type": "stream",
     "text": [
      "[2016, '2012', 2005, 2003, 1989, '1937', '1904', 1844]\n"
     ]
    }
   ],
   "source": [
    "group1_yrs.sort(key = int)\n",
    "group1_yrs.reverse()\n",
    "print(group1_yrs)\n",
    "#year and station name no longer correspond to eachother"
   ]
  },
  {
   "cell_type": "code",
   "execution_count": 58,
   "id": "9bbc630b",
   "metadata": {},
   "outputs": [
    {
     "data": {
      "text/plain": [
       "('Harmaja',\n",
       " 'Kaisaniemi',\n",
       " 'Kaivopuisto',\n",
       " 'Kumpula',\n",
       " 'Malmi airfield',\n",
       " 'Suomenlinna aaltopoiju',\n",
       " 'Vuosaari harbour',\n",
       " 'lighthouse')"
      ]
     },
     "execution_count": 58,
     "metadata": {},
     "output_type": "execute_result"
    }
   ],
   "source": [
    "group1"
   ]
  },
  {
   "cell_type": "code",
   "execution_count": 60,
   "id": "9c7c6acc",
   "metadata": {},
   "outputs": [],
   "source": [
    "group1_yrs_sorted = [1989, 1844, 1904, 2005, 1937, 2016, 2012, 2003]"
   ]
  },
  {
   "cell_type": "code",
   "execution_count": null,
   "id": "7a7ac1e7",
   "metadata": {},
   "outputs": [],
   "source": [
    "sorted_names_yrs = sorted(list(zip(group1, group1_yrs_sorted)))\n",
    "print(sorted_names_yrs)"
   ]
  },
  {
   "cell_type": "markdown",
   "id": "5065c8f6",
   "metadata": {},
   "source": [
    " Exercise 2.3 - Lists and index values\n",
    " \n",
    "For this exercise you should use the data in Table 2.6 to:\n",
    "\n",
    "Create two lists with the months and their average temperatures.\n",
    "Use a print statement to produce output like that below, where the months and temperatures are selected using index values in the corresponding lists.\n",
    "The average temperature in Helsinki in March is -1.0"
   ]
  },
  {
   "cell_type": "code",
   "execution_count": 66,
   "id": "78580e0e",
   "metadata": {},
   "outputs": [],
   "source": [
    "month = ['January', 'February','March', 'April',\n",
    "        'May', 'June', 'July', 'August', 'September', 'October', \n",
    "        'November', 'December']\n",
    "temp = [-3.5, -4.5, -1, 4.0, 10.0, 15.0, 18.0, 16.0, 11.5, 6.0, 2.0, -1.5]"
   ]
  },
  {
   "cell_type": "code",
   "execution_count": 67,
   "id": "9250471d",
   "metadata": {},
   "outputs": [
    {
     "name": "stdout",
     "output_type": "stream",
     "text": [
      "The average temperature in Helsinki in January is -3.5\n",
      "The average temperature in Helsinki in February is -4.5\n",
      "The average temperature in Helsinki in March is -1\n",
      "The average temperature in Helsinki in April is 4.0\n",
      "The average temperature in Helsinki in May is 10.0\n",
      "The average temperature in Helsinki in June is 15.0\n",
      "The average temperature in Helsinki in July is 18.0\n",
      "The average temperature in Helsinki in August is 16.0\n",
      "The average temperature in Helsinki in September is 11.5\n",
      "The average temperature in Helsinki in October is 6.0\n",
      "The average temperature in Helsinki in November is 2.0\n",
      "The average temperature in Helsinki in December is -1.5\n"
     ]
    }
   ],
   "source": [
    "for i in range(len(month)):\n",
    "    print('The average temperature in Helsinki in',\n",
    "          month[i],\n",
    "          'is',\n",
    "          temp[i])\n",
    "          "
   ]
  },
  {
   "cell_type": "markdown",
   "id": "c581fa5d",
   "metadata": {},
   "source": [
    "Exercise 2.4 - Batch processing files with a for loop\n",
    "Batch processing is a common task in Python, where a set of data and/or files are analyzed one after another using the same script or program. In this exercise your goal is to produce a Python list of filenames that could be used to batch process the data they contain."
   ]
  },
  {
   "cell_type": "code",
   "execution_count": 4,
   "id": "2d04696f",
   "metadata": {},
   "outputs": [
    {
     "name": "stdout",
     "output_type": "stream",
     "text": [
      "['Station_0.txt', 'Station_1.txt', 'Station_2.txt', 'Station_3.txt', 'Station_4.txt', 'Station_5.txt', 'Station_6.txt', 'Station_7.txt', 'Station_8.txt', 'Station_9.txt', 'Station_10.txt', 'Station_11.txt', 'Station_12.txt', 'Station_13.txt', 'Station_14.txt', 'Station_15.txt', 'Station_16.txt', 'Station_17.txt', 'Station_18.txt', 'Station_19.txt', 'Station_20.txt']\n"
     ]
    }
   ],
   "source": [
    "batch = []\n",
    "for i in range(0,21,1):\n",
    "    station_txt = f'Station_{i}.txt'\n",
    "    batch.append(station_txt)\n",
    "print(batch)"
   ]
  },
  {
   "cell_type": "markdown",
   "id": "054cf0fa",
   "metadata": {},
   "source": [
    "Exercise 2.5 - Classifying temperatures\n",
    "\n",
    "For this exercise you should:\n",
    "\n",
    "Use a for loop and conditional statments (e.g., if, elif, and else) to sort the temperatures in the list into the lists associated with each category (see Table 2.7).\n",
    "Hint: Create the empty lists before the start of the for loop.\n",
    "Answer the following questions:\n",
    "How many times was it cold in Helsinki in April 2013?\n",
    "How many times was it comfortable?\n",
    "Was it ever warm?"
   ]
  },
  {
   "cell_type": "code",
   "execution_count": 8,
   "id": "fdb066b0",
   "metadata": {},
   "outputs": [],
   "source": [
    "temperatures = [-5.4, 1.0, -1.3, -4.8, 3.9, 0.1, -4.4, 4.0, -2.2, -3.9, 4.4,\n",
    "                -2.5, -4.6, 5.1, 2.1, -2.4, 1.9, -3.3, -4.8, 1.0, -0.8, -2.8,\n",
    "                -0.1, -4.7, -5.6, 2.6, -2.7, -4.6, 3.4, -0.4, -0.9, 3.1, 2.4,\n",
    "                1.6, 4.2, 3.5, 2.6, 3.1, 2.2, 1.8, 3.3, 1.6, 1.5, 4.7, 4.0,\n",
    "                3.6, 4.9, 4.8, 5.3, 5.6, 4.1, 3.7, 7.6, 6.9, 5.1, 6.4, 3.8,\n",
    "                4.0, 8.6, 4.1, 1.4, 8.9, 3.0, 1.6, 8.5, 4.7, 6.6, 8.1, 4.5,\n",
    "                4.8, 11.3, 4.7, 5.2, 11.5, 6.2, 2.9, 4.3, 2.8, 2.8, 6.3, 2.6,\n",
    "                -0.0, 7.3, 3.4, 4.7, 9.3, 6.4, 5.4, 7.6, 5.2]"
   ]
  },
  {
   "cell_type": "code",
   "execution_count": 23,
   "id": "a8befd40",
   "metadata": {},
   "outputs": [],
   "source": [
    "cold = []\n",
    "slippery = []\n",
    "comfortable = []\n",
    "warm = []\n",
    "for temperature in temperatures:\n",
    "    if temperature < -2:\n",
    "        cold.append(temperature)\n",
    "    elif temperature >= 2:\n",
    "        warm.append(temperature)\n",
    "    if (temperature >= -2) and (temperature < 2):\n",
    "        slippery.append(temperature)\n",
    "    if (temperature >= 2) and (temperature < 15):\n",
    "        comfortable.append(temperature)"
   ]
  },
  {
   "cell_type": "code",
   "execution_count": 24,
   "id": "e12d5803",
   "metadata": {},
   "outputs": [
    {
     "name": "stdout",
     "output_type": "stream",
     "text": [
      "It was cold 15 times in Helsinki.\n"
     ]
    }
   ],
   "source": [
    "num_cold = len(cold)\n",
    "print('It was cold', num_cold, 'times in Helsinki.')"
   ]
  },
  {
   "cell_type": "code",
   "execution_count": 27,
   "id": "503e528a",
   "metadata": {},
   "outputs": [
    {
     "name": "stdout",
     "output_type": "stream",
     "text": [
      "It was warm 59 times in Helsinki.\n"
     ]
    }
   ],
   "source": [
    "num_warm = len(warm)\n",
    "print('It was warm', num_warm, 'times in Helsinki.')"
   ]
  },
  {
   "cell_type": "code",
   "execution_count": 26,
   "id": "60f14785",
   "metadata": {},
   "outputs": [
    {
     "name": "stdout",
     "output_type": "stream",
     "text": [
      "It was comfortable 59 times in Helsinki.\n"
     ]
    }
   ],
   "source": [
    "num_comfort = len(comfortable)\n",
    "print('It was comfortable', num_comfort, 'times in Helsinki.')"
   ]
  },
  {
   "cell_type": "markdown",
   "id": "f6e0e087",
   "metadata": {},
   "source": [
    "2.6\n",
    "Create a function to converts temperature in degrees Fahrenheit to degrees Celsius.\n",
    "Be sure to include a docstring in the function definition.\n",
    "Use the new function to convert the temperatures below to Celsius:\n",
    "32 °F\n",
    "68 °F\n",
    "91 °F\n",
    "-17 °F"
   ]
  },
  {
   "cell_type": "code",
   "execution_count": 40,
   "id": "03c94d80",
   "metadata": {},
   "outputs": [
    {
     "name": "stdout",
     "output_type": "stream",
     "text": [
      "89.6\n"
     ]
    }
   ],
   "source": [
    "temps = 32\n",
    "def celsius_to_far(temps):\n",
    "    return 9/5 * temps + 32\n",
    "print(celsius_to_far(temps))"
   ]
  },
  {
   "cell_type": "code",
   "execution_count": 41,
   "id": "a46d017b",
   "metadata": {},
   "outputs": [
    {
     "name": "stdout",
     "output_type": "stream",
     "text": [
      "154.4\n"
     ]
    }
   ],
   "source": [
    "temps = 68\n",
    "print(celsius_to_far(temps))"
   ]
  },
  {
   "cell_type": "code",
   "execution_count": 42,
   "id": "afaa6475",
   "metadata": {},
   "outputs": [
    {
     "name": "stdout",
     "output_type": "stream",
     "text": [
      "195.8\n"
     ]
    }
   ],
   "source": [
    "temps = 91\n",
    "print(celsius_to_far(temps))"
   ]
  },
  {
   "cell_type": "code",
   "execution_count": 43,
   "id": "bceb91bf",
   "metadata": {},
   "outputs": [
    {
     "name": "stdout",
     "output_type": "stream",
     "text": [
      "1.3999999999999986\n"
     ]
    }
   ],
   "source": [
    "temps = -17\n",
    "print(celsius_to_far(temps))"
   ]
  },
  {
   "cell_type": "markdown",
   "id": "b379fd5b",
   "metadata": {},
   "source": [
    "2.7\n",
    "This exercise uses the same logic presented in Exercise 2.5 to classify temperatures, but now using a function.\n",
    "\n",
    "In this exercise you should:\n",
    "\n",
    "Create a function that classifies temperatures based on Table 2.8.\n",
    "The function should return the following values for the different categories\n",
    "0: Cold\n",
    "1: Slippery\n",
    "2: Comfortable\n",
    "3: Warm\n",
    "Use the function to calculate the returned value the following temperatures:\n",
    "+17 °C\n",
    "+2 °C\n",
    "+1.9 °C\n",
    "-2 °C"
   ]
  },
  {
   "cell_type": "code",
   "execution_count": 46,
   "id": "3451e20e",
   "metadata": {},
   "outputs": [
    {
     "name": "stdout",
     "output_type": "stream",
     "text": [
      "3\n",
      "2\n",
      "1\n",
      "1\n"
     ]
    }
   ],
   "source": [
    "temp_list = [17, 2, 1.9, -2]\n",
    "for temps in temp_list:\n",
    "    if temps < -2:\n",
    "        print(0)\n",
    "    elif temps >= -2 and temps < 2:\n",
    "        print(1)\n",
    "    elif temps >= 2 and temps < 15:\n",
    "        print(2)\n",
    "    else:\n",
    "        print(3)"
   ]
  }
 ],
 "metadata": {
  "kernelspec": {
   "display_name": "Python 3 (ipykernel)",
   "language": "python",
   "name": "python3"
  },
  "language_info": {
   "codemirror_mode": {
    "name": "ipython",
    "version": 3
   },
   "file_extension": ".py",
   "mimetype": "text/x-python",
   "name": "python",
   "nbconvert_exporter": "python",
   "pygments_lexer": "ipython3",
   "version": "3.9.12"
  }
 },
 "nbformat": 4,
 "nbformat_minor": 5
}
